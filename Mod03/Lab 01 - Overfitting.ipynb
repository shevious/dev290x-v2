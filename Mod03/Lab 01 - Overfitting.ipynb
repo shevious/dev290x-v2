{
  "cells": [
    {
      "metadata": {
        "collapsed": true
      },
      "cell_type": "markdown",
      "source": "# Lab 01 - Overfitting\n\nIn this lab, you must modify the convolutional neural network you built in the previous lab to counteract overfitting.\n\n> **Hints**:\n> - To copy your code from the previous lab to this module folder, open your notebook in the **Mod02** folder and save a copy of it. Then move the copy to this folder.\n> - If you did not complete the previous lab, use the sample solution as a starting point.\n> - Add data augmentation as you load the training data - for example by rotating or flipping the images. See the [PyTorch](https://pytorch.org/docs/stable/torchvision/transforms.html#transforms-on-pil-image) or [Keras](https://keras.io/preprocessing/image/) documentation for help with this.\n> - Add at least one drop layer to your CNN. See the [PyTorch](https://pytorch.org/docs/stable/nn.html#dropout-layers) or [Keras](https://keras.io/layers/core/) documentation for help with this."
    }
  ],
  "metadata": {
    "kernelspec": {
      "name": "python36",
      "display_name": "Python 3.6",
      "language": "python"
    },
    "language_info": {
      "mimetype": "text/x-python",
      "nbconvert_exporter": "python",
      "name": "python",
      "pygments_lexer": "ipython3",
      "version": "3.6.6",
      "file_extension": ".py",
      "codemirror_mode": {
        "version": 3,
        "name": "ipython"
      }
    }
  },
  "nbformat": 4,
  "nbformat_minor": 2
}