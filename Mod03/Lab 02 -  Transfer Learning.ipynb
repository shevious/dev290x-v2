{
  "cells": [
    {
      "metadata": {
        "collapsed": true
      },
      "cell_type": "markdown",
      "source": "# Lab 2 - Transfer Learning\n\nIn this lab, you must use transfer learning to train a convolutional neural network that classifies vehicle images.\n\n> **Hints**:\n> - See the [PyTorch](https://pytorch.org/docs/stable/torchvision/models.html) and [Keras](https://keras.io/applications/) documentation for details of available base models - bear in mind that some models may incur too much processing overhead to be trained in the Azure Notebooks environment.\n> - Use the images in the **../data/classification/train** folder to train the model.\n> - Use the images in the **../data/classification/test** folder to test the trained model."
    }
  ],
  "metadata": {
    "kernelspec": {
      "name": "python36",
      "display_name": "Python 3.6",
      "language": "python"
    },
    "language_info": {
      "mimetype": "text/x-python",
      "nbconvert_exporter": "python",
      "name": "python",
      "pygments_lexer": "ipython3",
      "version": "3.6.6",
      "file_extension": ".py",
      "codemirror_mode": {
        "version": 3,
        "name": "ipython"
      }
    }
  },
  "nbformat": 4,
  "nbformat_minor": 2
}