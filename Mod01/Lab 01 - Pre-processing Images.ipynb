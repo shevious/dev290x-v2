{
  "cells": [
    {
      "metadata": {
        "collapsed": true
      },
      "cell_type": "markdown",
      "source": "# Lab 1 - Pre-Processing Data\n\nIn this lab, you will use Python to explore and prepare the image data that you will work with in subsequent labs. Specifically, you need to prepare the images to be used as training data for a machine learning model that you will build in later labs.\n\n## Set Up Data Folder Paths\nThe raw data is provided in the **../data/voc** folder. You must process this data and save the processed versions of the image files in the **../data/classification/training** folder, retaining the same structure of subfolders for each category of image."
    },
    {
      "metadata": {
        "trusted": true
      },
      "cell_type": "code",
      "source": "src_folder = \"../data/voc\"\ntrain_folder = \"../data/classification/training\"",
      "execution_count": 1,
      "outputs": []
    },
    {
      "metadata": {},
      "cell_type": "markdown",
      "source": "## Explore the Images\nIn the following cell, add code to iterate through subfolders in the **voc** folder, and display the first image in each subfolder. Each subfolder represents a category, or *class*, of image.\n\n> **Hints**:\n> - Use the **os.walk** method to iterate through a hierarchy of folders.\n> - Use the **os.listdir** method to return a list of files in a subfolder.\n> - The first file in a subfolder is the first element of the list (for example, file_list[0]).\n> - Use subplots to display the images - you will need to define a grid that shows one image per subfolder."
    },
    {
      "metadata": {
        "trusted": true
      },
      "cell_type": "code",
      "source": "",
      "execution_count": null,
      "outputs": []
    },
    {
      "metadata": {},
      "cell_type": "markdown",
      "source": "## Standardize the Images\nThe images vary in size and shape. Most machine learning techniques for computer vision work best when the image data is a consistent format and size, so you must prepare the data accordingly.\n\nAdd code to the following cell to standarize the images so that they are all 128x128 JPG files while retaining their original aspect-ratio, and save them in the same subfolder structure in a new **training** folder.\n\n> **Hints**:\n> - Encapsulate the code to resize an image in a function - use the **def** keyword to define a function.\n> - To Create a folder, use the **os.makedirs** method.\n> - To remove an existing folder that contains files, use the **shutil.rmtree** method."
    },
    {
      "metadata": {
        "trusted": true
      },
      "cell_type": "code",
      "source": "",
      "execution_count": null,
      "outputs": []
    },
    {
      "metadata": {},
      "cell_type": "markdown",
      "source": "## Compare the Original and Resized Images\nAdd code to the following cell to view the original and resized version of the first image in each subfolder.\n\n>**Hints**:\n> - This code should be simlar to the image exploration code above, but you must load the same image file from the subfolder in the original **voc** folder and the subfolder in the **classification/training** folder.\n> - This time, your subplots grid must show two images from each folder - you can arrange the images in two rows or two columns (one for original images, the other for resized images)."
    },
    {
      "metadata": {
        "trusted": true
      },
      "cell_type": "code",
      "source": "",
      "execution_count": null,
      "outputs": []
    }
  ],
  "metadata": {
    "kernelspec": {
      "name": "python36",
      "display_name": "Python 3.6",
      "language": "python"
    },
    "language_info": {
      "mimetype": "text/x-python",
      "nbconvert_exporter": "python",
      "name": "python",
      "pygments_lexer": "ipython3",
      "version": "3.6.6",
      "file_extension": ".py",
      "codemirror_mode": {
        "version": 3,
        "name": "ipython"
      }
    }
  },
  "nbformat": 4,
  "nbformat_minor": 2
}