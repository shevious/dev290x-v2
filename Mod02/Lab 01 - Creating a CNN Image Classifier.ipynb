{
  "cells": [
    {
      "metadata": {
        "collapsed": true
      },
      "cell_type": "markdown",
      "source": "# Lab 1 - Creating a CNN Classifier\n\nIn this lab, you will use your choice of PyTorch or Keras to create a convolutional neural network (CNN) to classify the vehicle images you prepared in the previous lab.\n\n> **Important**: If you did not complete Lab 1, use the sample solution notebook for that lab to prepare the training images you will need in this lab!"
    },
    {
      "metadata": {},
      "cell_type": "markdown",
      "source": "## Set up a Deep Learning Framework\nYou can choose to build your CNN using **PyTorch** or **Keras**. You'll need to install the framework you want to use, and then import it (and any of its libraries you need to use):\n\n> **Hints**:\n> - Use the `pip` utility to install the framework - you can run shell commands in a notebook by prefixing the code with a **!** character"
    },
    {
      "metadata": {
        "trusted": true
      },
      "cell_type": "code",
      "source": "",
      "execution_count": null,
      "outputs": []
    },
    {
      "metadata": {},
      "cell_type": "markdown",
      "source": "## Prepare the Data\n\nIn the following cell, write code to load the training data and split it into a training set and a validation set.\n\n>**Hints**:\n> - If you are using PyTorch, use **ImageDataGenerator** objects to load the data. If you are using Keras, use **DataLoader** objects.\n> - Normalize the pixel values in the range 0-255 as you load them.\n> - Split the data into 70% for training, 30% for validation.\n> - Create a list of class names that corresponds to the class labels in your dataset."
    },
    {
      "metadata": {
        "trusted": true
      },
      "cell_type": "code",
      "source": "",
      "execution_count": null,
      "outputs": []
    },
    {
      "metadata": {},
      "cell_type": "markdown",
      "source": "## Define the CNN\nDefine the layers in your CNN:\n\n> **Hints**:\n> - Use *convolution* layers to extract feature based on filter kernels.\n> - Use pooling layers to downsample the extracted features.\n> - To improve your model, experiment with adding layers (making the network deeper) and adding filters (making the network broader)."
    },
    {
      "metadata": {
        "trusted": true
      },
      "cell_type": "code",
      "source": "",
      "execution_count": null,
      "outputs": []
    },
    {
      "metadata": {},
      "cell_type": "markdown",
      "source": "## Train the Model\n\nTrain the model using the training dataset, and validating after each epoch with the validation dataset.\n\n> **Hints**:\n> - Choose an appropriate optimizer and learning rate - Refer to the [PyTorch](https://pytorch.org/docs/stable/optim.html#algorithms) or [Keras](https://keras.io/optimizers/) framework documentation as you experiment with this.\n> - Run the training process over a reasonable number of epochs - start with 15 and increase / decrease based on your observations of validation loss.\n> - Track both training and validation loss so you can observe training progress and plot the loss history after training."
    },
    {
      "metadata": {
        "trusted": true
      },
      "cell_type": "code",
      "source": "",
      "execution_count": null,
      "outputs": []
    },
    {
      "metadata": {},
      "cell_type": "markdown",
      "source": "## View Loss History\n\nUse matplotlib to plot the training and validation loss history.\n\n> **Hints**:\n> - Experiment with adding model layers and filters, changing activation functions,, or using a different optimizer or learning rate to achieve a lower loss - you should restart the kernel between each attempt!\n> - If the training loss continues to drop, but the validation loss doesn't - the model is *overfitting*. We'll explore options to address this later in the course."
    },
    {
      "metadata": {
        "trusted": true
      },
      "cell_type": "code",
      "source": "",
      "execution_count": null,
      "outputs": []
    },
    {
      "metadata": {},
      "cell_type": "markdown",
      "source": "## View Model Performance\n\nPlot a confusion matrix to observe how the model performs:\n\n> **Hints**:\n> - Use some or all of the validation data to generate metrics for the confusion matrix.\n> - Use the **sklearn.metrics.confusion_matrix** object to create the confusion matrix."
    },
    {
      "metadata": {
        "trusted": true
      },
      "cell_type": "code",
      "source": "",
      "execution_count": null,
      "outputs": []
    },
    {
      "metadata": {},
      "cell_type": "markdown",
      "source": "## Save the Model Weights\n\nAfter you've trained the model, save the model weights so you can reuse it later.\n\n> **Hints**:\n> - Save the weights, not the entire model.\n> - See [Keras documentation](https://keras.io/getting-started/faq/#how-can-i-save-a-keras-model) for information about saving Keras model weights, or [PyTorch documentation](https://pytorch.org/tutorials/beginner/saving_loading_models.html) for information about saving PyTorch weights. "
    },
    {
      "metadata": {
        "trusted": true
      },
      "cell_type": "code",
      "source": "",
      "execution_count": null,
      "outputs": []
    },
    {
      "metadata": {},
      "cell_type": "markdown",
      "source": "## Use the Model to Classify New Images\n\nNow you can use your model to infer the class of new images.\n\n> **Hints**:\n- Use the images in the **../data/classification/test** folder to test your model.\n- Remember to prepare your new imagfes the same way you prepared the training images - they must be the same size and have the same transformations applied to them.\n- Consider creating functions to encapsulate image preparation class prediction."
    },
    {
      "metadata": {
        "trusted": true
      },
      "cell_type": "code",
      "source": "",
      "execution_count": null,
      "outputs": []
    }
  ],
  "metadata": {
    "kernelspec": {
      "name": "python36",
      "display_name": "Python 3.6",
      "language": "python"
    },
    "language_info": {
      "mimetype": "text/x-python",
      "nbconvert_exporter": "python",
      "name": "python",
      "pygments_lexer": "ipython3",
      "version": "3.6.6",
      "file_extension": ".py",
      "codemirror_mode": {
        "version": 3,
        "name": "ipython"
      }
    }
  },
  "nbformat": 4,
  "nbformat_minor": 2
}